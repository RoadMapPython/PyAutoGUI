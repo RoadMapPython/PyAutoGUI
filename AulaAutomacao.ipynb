{
 "cells": [
  {
   "cell_type": "code",
   "execution_count": 1,
   "id": "66e61a26-dd0a-4306-b2f4-0121d7a13765",
   "metadata": {
    "tags": []
   },
   "outputs": [],
   "source": [
    "import pyautogui# Importando Biblioteca de Automacao\n",
    "import time     #Importando Bilioteca de Tempo, para executar Pausas"
   ]
  },
  {
   "cell_type": "code",
   "execution_count": 2,
   "id": "522b3582-8dee-4263-b4d7-b455950bb1c0",
   "metadata": {},
   "outputs": [
    {
     "name": "stdout",
     "output_type": "stream",
     "text": [
      "Point(x=798, y=465)\n"
     ]
    }
   ],
   "source": [
    "pyautogui.alert(\"Sua automacao ira comecar aguarde ate o fim.\") #Alerta\n",
    "pyautogui.PAUSE = 0.5\n",
    "\n",
    "time.sleep(3)\n",
    "x=pyautogui.position()\n",
    "print(x)"
   ]
  },
  {
   "cell_type": "code",
   "execution_count": 3,
   "id": "1f9fb9f5-c4e7-48d4-885b-930540d07e89",
   "metadata": {},
   "outputs": [],
   "source": [
    "pyautogui.press('winleft') #Pressiona uma tecla\n",
    "time.sleep(2)\n",
    "pyautogui.write('google')#Digita o navegador para a pesquisa\n",
    "time.sleep(2)\n",
    "pyautogui.press('enter')#Pressiona a tecla enter\n",
    "time.sleep(2)\n",
    "pyautogui.write('https://drive.google.com') # Acessa o google drive\n",
    "time.sleep(2)\n",
    "pyautogui.press('enter') # Pressiona enter\n",
    "time.sleep(4)\n",
    "#Se mova para essas coordenadas\n",
    "pyautogui.moveTo(400,534)\n",
    "pyautogui.doubleClick(400,534)\n",
    "time.sleep(2)\n",
    "\n",
    "pyautogui.rightClick(414,423)\n",
    "\n",
    "time.sleep(2)\n",
    "pyautogui.moveTo(527,781)\n",
    "time.sleep(2)\n",
    "\n",
    "pyautogui.click(527,781)"
   ]
  },
  {
   "cell_type": "code",
   "execution_count": null,
   "id": "c71194cf-b840-431f-8775-6abcec385c68",
   "metadata": {},
   "outputs": [],
   "source": []
  }
 ],
 "metadata": {
  "kernelspec": {
   "display_name": "Python 3 (ipykernel)",
   "language": "python",
   "name": "python3"
  },
  "language_info": {
   "codemirror_mode": {
    "name": "ipython",
    "version": 3
   },
   "file_extension": ".py",
   "mimetype": "text/x-python",
   "name": "python",
   "nbconvert_exporter": "python",
   "pygments_lexer": "ipython3",
   "version": "3.10.0"
  }
 },
 "nbformat": 4,
 "nbformat_minor": 5
}
